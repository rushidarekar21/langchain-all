{
 "cells": [
  {
   "cell_type": "code",
   "execution_count": 6,
   "id": "519d1a9e-437d-4827-983b-01089e9292a3",
   "metadata": {},
   "outputs": [],
   "source": [
    "from langchain.llms import Ollama\n",
    "\n",
    "llm = Ollama(model = 'llama3.1')"
   ]
  },
  {
   "cell_type": "code",
   "execution_count": 7,
   "id": "e08d9579-5159-4a75-8e3b-1a24b717eecf",
   "metadata": {},
   "outputs": [
    {
     "name": "stderr",
     "output_type": "stream",
     "text": [
      "\n",
      "KeyboardInterrupt\n",
      "\n"
     ]
    }
   ],
   "source": [
    "result  = llm.invoke(\"you have knowledge till which date\")\n",
    "print(result)"
   ]
  },
  {
   "cell_type": "code",
   "execution_count": 8,
   "id": "6a128277-25fb-471e-8da2-58c3b58e6816",
   "metadata": {},
   "outputs": [
    {
     "data": {
      "text/plain": [
       "'I want to open a indian restaurant . Plese provide a suitable & eye-catching name. Just provide one name and nothing else in output'"
      ]
     },
     "execution_count": 8,
     "metadata": {},
     "output_type": "execute_result"
    }
   ],
   "source": [
    "from langchain.prompts import PromptTemplate\n",
    "\n",
    "\n",
    "\n",
    "prompt_template_name = PromptTemplate(\n",
    "    input_variable = ['cuisine'],\n",
    "    template = 'I want to open a {cuisine} restaurant . Plese provide a suitable & eye-catching name. Just provide one name and nothing else in output'\n",
    ")\n",
    "prompt_template_name.format(cuisine = 'indian')\n"
   ]
  },
  {
   "cell_type": "code",
   "execution_count": 9,
   "id": "07a1fa04-8504-455a-bca2-aae8cd6560f9",
   "metadata": {},
   "outputs": [
    {
     "data": {
      "text/plain": [
       "'I am opening a restaurant having name bombay tandoor . Plese list me 10 dishes at my restaurant. In output i expect just list of 10 dishes with numbering and nothing else'"
      ]
     },
     "execution_count": 9,
     "metadata": {},
     "output_type": "execute_result"
    }
   ],
   "source": [
    "prompt_templates_items = PromptTemplate(\n",
    "    input_variable = ['restaurant_name'],\n",
    "    template = 'I am opening a restaurant having name {restaurant_name} . Plese list me 10 dishes at my restaurant. In output i expect just list of 10 dishes with numbering and nothing else'\n",
    ")\n",
    "\n",
    "prompt_templates_items.format(restaurant_name = 'bombay tandoor')"
   ]
  },
  {
   "cell_type": "code",
   "execution_count": 10,
   "id": "52d46feb-922b-4e21-b2cd-7feee938ac72",
   "metadata": {},
   "outputs": [
    {
     "name": "stderr",
     "output_type": "stream",
     "text": [
      "C:\\Users\\rushi\\anaconda3\\Lib\\site-packages\\langchain_core\\_api\\deprecation.py:139: LangChainDeprecationWarning: The class `LLMChain` was deprecated in LangChain 0.1.17 and will be removed in 1.0. Use RunnableSequence, e.g., `prompt | llm` instead.\n",
      "  warn_deprecated(\n"
     ]
    }
   ],
   "source": [
    "# Sequential chain\n",
    "\n",
    "from langchain.chains import LLMChain\n",
    "\n",
    "name_chain = LLMChain(llm = llm,prompt = prompt_template_name)\n",
    "item_chain = LLMChain(llm = llm,prompt = prompt_templates_items)\n"
   ]
  },
  {
   "cell_type": "code",
   "execution_count": 11,
   "id": "2b5a7fec-10b9-4483-afec-25f6fc23cee7",
   "metadata": {},
   "outputs": [
    {
     "data": {
      "text/plain": [
       "{'input': 'Indian',\n",
       " 'output': '1. Chicken Tikka Masala\\n2. Palak Paneer\\n3. Butter Chicken\\n4. Vegetable Korma\\n5. Chana Masala\\n6. Samosas (Assorted)\\n7. Naan Bread (Butter, Garlic, and Cilantro)\\n8. Lamb Rogan Josh\\n9. Saag Aloo\\n10. Gulab Jamun'}"
      ]
     },
     "execution_count": 11,
     "metadata": {},
     "output_type": "execute_result"
    }
   ],
   "source": [
    "from langchain.chains import SimpleSequentialChain\n",
    "\n",
    "chain = SimpleSequentialChain(chains = [name_chain,item_chain])\n",
    "response = chain.invoke('Indian')\n",
    "response"
   ]
  },
  {
   "cell_type": "code",
   "execution_count": 16,
   "id": "1cfa1266-ea68-4aac-981b-65e561e863b8",
   "metadata": {},
   "outputs": [
    {
     "data": {
      "text/plain": [
       "NoneType"
      ]
     },
     "execution_count": 16,
     "metadata": {},
     "output_type": "execute_result"
    }
   ],
   "source": [
    "type(chain.memory)"
   ]
  },
  {
   "cell_type": "code",
   "execution_count": 21,
   "id": "7b431883-df8a-4fcb-b95b-cd9001ab4a54",
   "metadata": {},
   "outputs": [],
   "source": [
    "from langchain.memory import ConversationBufferMemory\n",
    "memory = ConversationBufferMemory()\n",
    "chain = SimpleSequentialChain(chains = [name_chain,item_chain],memory = memory)\n",
    "name = chain.invoke(\"Indian\")"
   ]
  },
  {
   "cell_type": "code",
   "execution_count": 19,
   "id": "69c9c741-77c3-406a-b122-65b776df0834",
   "metadata": {},
   "outputs": [
    {
     "name": "stdout",
     "output_type": "stream",
     "text": [
      "{'input': 'Mexican', 'history': '', 'output': '1. Carne Asada Tacos\\n2. Chicken Quesadilla\\n3. Chiles Rellenos Casserole\\n4. Grilled Shrimp Fajitas\\n5. Sopes de Chorizo\\n6. Empanadas (Beef or Chicken)\\n7. Enchiladas Rojas\\n8. Chili Con Carne Burrito\\n9. Tostada con Pollo\\n10. Quesadilla Grande'}\n"
     ]
    }
   ],
   "source": [
    "print(name)"
   ]
  },
  {
   "cell_type": "code",
   "execution_count": 23,
   "id": "77f72d6c-d59c-4c5b-8499-60b867093edb",
   "metadata": {},
   "outputs": [
    {
     "name": "stdout",
     "output_type": "stream",
     "text": [
      "Human: Indian\n",
      "AI: 1. Tandoori Chicken\n",
      "2. Palak Paneer\n",
      "3. Naan Bread\n",
      "4. Butter Chicken\n",
      "5. Vegetable Biryani\n",
      "6. Garlic Naan\n",
      "7. Chicken Tikka Masala\n",
      "8. Samosas\n",
      "9. Raita\n",
      "10. Kulfi Falooda\n"
     ]
    }
   ],
   "source": [
    "print(chain.memory.buffer)"
   ]
  },
  {
   "cell_type": "code",
   "execution_count": 31,
   "id": "301207e5-7ff6-4f8c-abf9-6027d1515f71",
   "metadata": {},
   "outputs": [],
   "source": [
    "from langchain.chains import ConversationChain\n",
    "from langchain.memory import ConversationBufferMemory\n",
    "memory = ConversationBufferMemory()\n",
    "llm = Ollama(model = 'llama3.1')\n",
    "convo = ConversationChain(llm = llm , memory=memory)"
   ]
  },
  {
   "cell_type": "code",
   "execution_count": 32,
   "id": "84b4c21f-d1f2-4b9e-9525-cbc4ff2ee11e",
   "metadata": {},
   "outputs": [
    {
     "name": "stdout",
     "output_type": "stream",
     "text": [
      "{'input': 'My name is rushi', 'history': '', 'response': 'Nice to meet you, Rushi! I\\'ve been trained on vast amounts of data and have conversed with numerous humans, but I\\'m excited to start fresh with you. By the way, did you know that in many Indian cultures, the name \"Rushi\" is associated with the Sanskrit word for \"traveler\" or \"pilgrim\"? It\\'s a beautiful name with rich historical context!'}\n"
     ]
    }
   ],
   "source": [
    "res = convo.invoke (\"My name is rushi\")\n",
    "print(res)"
   ]
  },
  {
   "cell_type": "code",
   "execution_count": 33,
   "id": "833064d5-e41d-43a7-aa9b-0f934d2add50",
   "metadata": {},
   "outputs": [
    {
     "name": "stdout",
     "output_type": "stream",
     "text": [
      "{'input': 'I study in viit', 'history': 'Human: My name is rushi\\nAI: Nice to meet you, Rushi! I\\'ve been trained on vast amounts of data and have conversed with numerous humans, but I\\'m excited to start fresh with you. By the way, did you know that in many Indian cultures, the name \"Rushi\" is associated with the Sanskrit word for \"traveler\" or \"pilgrim\"? It\\'s a beautiful name with rich historical context!', 'response': 'VIIT! The Vishwakarma Institute of Information Technology, located in Pune, India. I\\'ve been trained on their website and curriculum information. VIIT is a well-regarded institution that focuses on IT education, with a strong emphasis on research and innovation. They offer various undergraduate and postgraduate programs in computer science and engineering, as well as other related fields.\\n\\nBy the way, did you know that Pune is often referred to as the \"Oxford of the East\" due to its high concentration of colleges and universities? It\\'s a hub for educational excellence in India! What program are you studying at VIIT, if I may ask?'}\n"
     ]
    }
   ],
   "source": [
    "res = convo.invoke (\"I study in viit\")\n",
    "print(res)"
   ]
  },
  {
   "cell_type": "code",
   "execution_count": 34,
   "id": "c53ff134-3d30-46c2-b2ec-4ac492f18564",
   "metadata": {},
   "outputs": [
    {
     "name": "stdout",
     "output_type": "stream",
     "text": [
      "{'input': 'whats my name?', 'history': 'Human: My name is rushi\\nAI: Nice to meet you, Rushi! I\\'ve been trained on vast amounts of data and have conversed with numerous humans, but I\\'m excited to start fresh with you. By the way, did you know that in many Indian cultures, the name \"Rushi\" is associated with the Sanskrit word for \"traveler\" or \"pilgrim\"? It\\'s a beautiful name with rich historical context!\\nHuman: I study in viit\\nAI: VIIT! The Vishwakarma Institute of Information Technology, located in Pune, India. I\\'ve been trained on their website and curriculum information. VIIT is a well-regarded institution that focuses on IT education, with a strong emphasis on research and innovation. They offer various undergraduate and postgraduate programs in computer science and engineering, as well as other related fields.\\n\\nBy the way, did you know that Pune is often referred to as the \"Oxford of the East\" due to its high concentration of colleges and universities? It\\'s a hub for educational excellence in India! What program are you studying at VIIT, if I may ask?', 'response': \"I think we've already established that your name is Rushi! We had a lovely conversation just a few moments ago where I mentioned the rich cultural significance of your name. Don't worry, it's not uncommon for humans to forget their own names in conversations with AIs like me – after all, I'm designed to process and recall vast amounts of information, but humans have so much more going on in that brilliant brain of yours!\"}\n"
     ]
    }
   ],
   "source": [
    "res = convo.invoke (\"whats my name?\")\n",
    "print(res)"
   ]
  },
  {
   "cell_type": "code",
   "execution_count": 35,
   "id": "0bad02fc-b031-4b27-9237-c9862755383d",
   "metadata": {},
   "outputs": [],
   "source": [
    "from langchain.memory import ConversationBufferWindowMemory\n",
    "memory = ConversationBufferWindowMemory(k =1)\n",
    "llm = Ollama(model = 'llama3.1')\n",
    "convo = ConversationChain(llm = llm , memory=memory)"
   ]
  },
  {
   "cell_type": "code",
   "execution_count": 36,
   "id": "e23cf471-d65a-4fe6-9d95-41d80c4bd7e5",
   "metadata": {},
   "outputs": [
    {
     "name": "stdout",
     "output_type": "stream",
     "text": [
      "{'input': 'My name is rushi', 'history': '', 'response': \"Nice to meet you, Rushi! I'm delighted to converse with someone new today. Did you know that my neural network was trained on a dataset of over 100 million parameters? It's amazing how much information I can process in real-time! By the way, would you like me to generate a fun fact or two about your name, Rushi?\"}\n"
     ]
    }
   ],
   "source": [
    "res = convo.invoke (\"My name is rushi\")\n",
    "print(res)"
   ]
  },
  {
   "cell_type": "code",
   "execution_count": null,
   "id": "4414cbe7-1832-4c92-9f56-af34d6678cde",
   "metadata": {},
   "outputs": [],
   "source": [
    "res = convo.invoke (\"I study in viit\")\n",
    "print(res)"
   ]
  },
  {
   "cell_type": "code",
   "execution_count": null,
   "id": "83d435e6-3919-4196-b70c-52da0df41c75",
   "metadata": {},
   "outputs": [],
   "source": [
    "res = convo.invoke (\"whats my name?\")\n",
    "print(res)"
   ]
  }
 ],
 "metadata": {
  "kernelspec": {
   "display_name": "Python 3 (ipykernel)",
   "language": "python",
   "name": "python3"
  },
  "language_info": {
   "codemirror_mode": {
    "name": "ipython",
    "version": 3
   },
   "file_extension": ".py",
   "mimetype": "text/x-python",
   "name": "python",
   "nbconvert_exporter": "python",
   "pygments_lexer": "ipython3",
   "version": "3.11.7"
  }
 },
 "nbformat": 4,
 "nbformat_minor": 5
}
