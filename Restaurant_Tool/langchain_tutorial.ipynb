{
 "cells": [
  {
   "cell_type": "code",
   "execution_count": 1,
   "id": "4e319955-640b-45a8-bc0e-1d1ffc8d6b31",
   "metadata": {},
   "outputs": [],
   "source": [
    "api_key = \"sk-proj-05MkBQfajv977G5CKxxHT3BlbkFJnY0LTvB0aaGVhZ7znc0f\""
   ]
  },
  {
   "cell_type": "code",
   "execution_count": null,
   "id": "4004f365-7d91-4c23-9333-e9015ce5ccac",
   "metadata": {},
   "outputs": [],
   "source": []
  }
 ],
 "metadata": {
  "kernelspec": {
   "display_name": "Python 3 (ipykernel)",
   "language": "python",
   "name": "python3"
  },
  "language_info": {
   "codemirror_mode": {
    "name": "ipython",
    "version": 3
   },
   "file_extension": ".py",
   "mimetype": "text/x-python",
   "name": "python",
   "nbconvert_exporter": "python",
   "pygments_lexer": "ipython3",
   "version": "3.11.7"
  }
 },
 "nbformat": 4,
 "nbformat_minor": 5
}
